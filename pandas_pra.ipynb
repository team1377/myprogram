{
 "cells": [
  {
   "cell_type": "code",
   "execution_count": 11,
   "metadata": {},
   "outputs": [
    {
     "name": "stdout",
     "output_type": "stream",
     "text": [
      "## 갤럭시 vs 아이폰 비교\n",
      "--------------------\n",
      "| 기준 | 갤럭시 {galaxy_model} | 아이폰 {iphone_model} |\n",
      "|---|---|---|\n",
      "| 모델 | {galaxy_model} | {iphone_model} |\n",
      "| 가격 | {galaxy_price:,}원 | {iphone_price:,}원 |\n",
      "| 디스플레이 | {galaxy_display} | {iphone_display} |\n",
      "| 카메라 | {galaxy_camera} | {iphone_camera} |\n",
      "| 배터리 | {galaxy_battery} | {iphone_battery} |\n",
      "| 운영체제 | {galaxy_os} | {iphone_os} |\n"
     ]
    }
   ],
   "source": [
    "# 갤럭시 정보\n",
    "galaxy_model = \"S23 Ultra\"\n",
    "galaxy_price = 1299000  # 원\n",
    "galaxy_display = \"6.8인치 Dynamic AMOLED 2X\"\n",
    "galaxy_camera = \"108MP + 12MP + 10MP + 10MP\"\n",
    "galaxy_battery = \"5000mAh\"\n",
    "galaxy_os = \"Android 13\"\n",
    "\n",
    "# 아이폰 정보\n",
    "iphone_model = \"iPhone 13 Pro Max\"\n",
    "iphone_price = 1559000  # 원\n",
    "iphone_display = \"6.7인치 Super Retina XDR OLED\"\n",
    "iphone_camera = \"12MP + 12MP + 12MP\"\n",
    "iphone_battery = \"4352mAh\"\n",
    "iphone_os = \"iOS 16\"\n",
    "\n",
    "# 비교 출력\n",
    "print(\"## 갤럭시 vs 아이폰 비교\")\n",
    "print(\"-\" * 20)\n",
    "\n",
    "# 표 형식 출력\n",
    "print(\"| 기준 | 갤럭시 {galaxy_model} | 아이폰 {iphone_model} |\")\n",
    "print(\"|---|---|---|\")\n",
    "print(\"| 모델 | {galaxy_model} | {iphone_model} |\")\n",
    "print(\"| 가격 | {galaxy_price:,}원 | {iphone_price:,}원 |\")\n",
    "print(\"| 디스플레이 | {galaxy_display} | {iphone_display} |\")\n",
    "print(\"| 카메라 | {galaxy_camera} | {iphone_camera} |\")\n",
    "print(\"| 배터리 | {galaxy_battery} | {iphone_battery} |\")\n",
    "print(\"| 운영체제 | {galaxy_os} | {iphone_os} |\")\n"
   ]
  }
 ],
 "metadata": {
  "kernelspec": {
   "display_name": "base",
   "language": "python",
   "name": "python3"
  },
  "language_info": {
   "codemirror_mode": {
    "name": "ipython",
    "version": 3
   },
   "file_extension": ".py",
   "mimetype": "text/x-python",
   "name": "python",
   "nbconvert_exporter": "python",
   "pygments_lexer": "ipython3",
   "version": "3.11.7"
  }
 },
 "nbformat": 4,
 "nbformat_minor": 2
}
