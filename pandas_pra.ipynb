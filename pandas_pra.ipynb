{
 "cells": [
  {
   "cell_type": "code",
   "execution_count": 6,
   "metadata": {},
   "outputs": [
    {
     "name": "stdout",
     "output_type": "stream",
     "text": [
      "## 2024년 출시 삼성 갤럭시 모델 비교 (선택 모델)\n",
      "Empty DataFrame\n",
      "Columns: [모델, 가격, 화면크기(인치), 해상도, 프로세서, RAM(GB), 저장공간(GB), 사용자 평점, 최저가(원)]\n",
      "Index: []\n"
     ]
    }
   ],
   "source": [
    "import pandas as pd\n",
    "\n",
    "# 모델 정보 (수동 입력 또는 CSV 파일 불러오기)\n",
    "data = {\n",
    "    '모델': [\n",
    "        '[갤럭시 S24](https://www.samsung.com/sec/smartphones/galaxy-s24)',\n",
    "        '[갤럭시 S24+](https://www.samsung.com/sec/smartphones/galaxy-s24plus)',\n",
    "        '[갤럭시 S24 울트라](https://www.samsung.com/sec/smartphones/galaxy-s24-ultra)',\n",
    "        '[갤럭시 Z 플립5](https://www.samsung.com/sec/smartphones/galaxy-z-flip5)',\n",
    "        '[갤럭시 Z 플립5 폴더블](https://www.samsung.com/sec/smartphones/galaxy-z-flip5-foldable)',\n",
    "        '[갤럭시 A25](https://www.samsung.com/sec/smartphones/galaxy-a25)',\n",
    "        '[갤럭시 A35](https://www.samsung.com/sec/smartphones/galaxy-a35)']\n",
    "    ,\n",
    "    '가격': [900000, 1000000, 1200000, 1300000, 1900000, 350000, 450000],\n",
    "    '화면크기(인치)': [6.1, 6.6, 6.8, 6.7, 7.6, 6.6, 6.6],\n",
    "    '해상도': ['FHD+', 'FHD+', 'WQHD+', 'FHD+', 'UXGA+', 'FHD+', 'FHD+'],\n",
    "    '프로세서': ['Snapdragon 8 Gen 2', 'Snapdragon 8 Gen 2', 'Snapdragon 8 Gen 2', 'Snapdragon 8 Gen 2', 'Snapdragon 8 Gen 2', 'Exynos 1380', 'Exynos 1380'],\n",
    "    'RAM(GB)': [8, 12, 12, 8, 12, 6, 6],\n",
    "    '저장공간(GB)': [128, 256, 256, 128, 256, 128, 128],\n",
    "    '사용자 평점': [4.5, 4.7, 4.9, 4.6, 4.8, 4.2, 4.4],\n",
    "    '최저가(원)': [850000, 950000, 1150000, 1250000, 1850000, 330000, 430000]\n",
    "}\n",
    "\n",
    "# 데이터프레임 변환\n",
    "df = pd.DataFrame(data)\n",
    "\n",
    "# 비교할 모델 선택 (예: 갤럭시 S24, Z 플립5, 갤럭시 A25, 갤럭시 A35)\n",
    "비교_모델 = ['갤럭시 S24', '갤럭시 Z 플립5', '갤럭시 A25', '갤럭시 A35']\n",
    "\n",
    "# 데이터프레임 필터링\n",
    "필터링_df = df[df['모델'].isin(비교_모델)]\n",
    "\n",
    "# 표 형식 출력\n",
    "print(\"## 2024년 출시 삼성 갤럭시 모델 비교 (선택 모델)\")\n",
    "print(필터링_df[['모델', '가격', '화면크기(인치)', '해상도', '프로세서', 'RAM(GB)', '저장공간(GB)', '사용자 평점', '최저가(원)']].to_string(index=False))\n"
   ]
  }
 ],
 "metadata": {
  "kernelspec": {
   "display_name": "base",
   "language": "python",
   "name": "python3"
  },
  "language_info": {
   "codemirror_mode": {
    "name": "ipython",
    "version": 3
   },
   "file_extension": ".py",
   "mimetype": "text/x-python",
   "name": "python",
   "nbconvert_exporter": "python",
   "pygments_lexer": "ipython3",
   "version": "3.11.7"
  }
 },
 "nbformat": 4,
 "nbformat_minor": 2
}
